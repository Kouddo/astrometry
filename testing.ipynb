{
 "cells": [
  {
   "cell_type": "code",
   "execution_count": 1,
   "metadata": {},
   "outputs": [],
   "source": [
    "import numpy as np\n",
    "from preprocessing.utility import import_files\n",
    "from matplotlib import pyplot as plt\n",
    "trifid = '/Users/achennupati/Desktop/astro/trifid'"
   ]
  },
  {
   "cell_type": "code",
   "execution_count": 2,
   "metadata": {},
   "outputs": [],
   "source": [
    "trifid = import_files(trifid)\n",
    "\n",
    "trifid_data = [i.data for i in trifid]"
   ]
  },
  {
   "cell_type": "code",
   "execution_count": 18,
   "metadata": {},
   "outputs": [],
   "source": [
    "from ctypes import *\n",
    "cfuncs = CDLL('/Users/achennupati/Desktop/astrometry/utils/debayer.so')\n",
    "sq = cfuncs.square"
   ]
  },
  {
   "cell_type": "code",
   "execution_count": 3,
   "metadata": {},
   "outputs": [],
   "source": [
    "from utils.debayer import simple_debayer"
   ]
  },
  {
   "cell_type": "code",
   "execution_count": 4,
   "metadata": {},
   "outputs": [
    {
     "name": "stderr",
     "output_type": "stream",
     "text": [
      "/Users/achennupati/Desktop/astrometry/utils/debayer.py:13: RuntimeWarning: overflow encountered in ushort_scalars\n",
      "  g[i][n] = (image[i-1][n] + image[i+1][n] + image[i][n-1] + image[i][n-1])/4\n",
      "/Users/achennupati/Desktop/astrometry/utils/debayer.py:18: RuntimeWarning: overflow encountered in ushort_scalars\n",
      "  g[i][n] = (image[i-1][n] + image[i+1][n] + image[i][n-1] + image[i][n-1])/4\n",
      "/Users/achennupati/Desktop/astrometry/utils/debayer.py:19: RuntimeWarning: overflow encountered in ushort_scalars\n",
      "  b[i][n] = r[i][n] = (image[i-1][n-1] + image[i+1][n-1] + image[i-1][n+1] + image[i+1][n+1])/4\n",
      "/Users/achennupati/Desktop/astrometry/utils/debayer.py:14: RuntimeWarning: overflow encountered in ushort_scalars\n",
      "  r[i][n] = (image[i-1][n-1] + image[i+1][n-1] + image[i-1][n+1] + image[i+1][n+1])/4\n",
      "/Users/achennupati/Desktop/astrometry/utils/debayer.py:27: RuntimeWarning: overflow encountered in ushort_scalars\n",
      "  r[i][n] = (image[i][n-1] + image[i][n+1])/2\n",
      "/Users/achennupati/Desktop/astrometry/utils/debayer.py:22: RuntimeWarning: overflow encountered in ushort_scalars\n",
      "  r[i][n] = (image[i-1][n] + image[i+1][n])/2\n",
      "/Users/achennupati/Desktop/astrometry/utils/debayer.py:26: RuntimeWarning: overflow encountered in ushort_scalars\n",
      "  b[i][n] = (image[i-1][n] + image[i+1][n])/2\n",
      "/Users/achennupati/Desktop/astrometry/utils/debayer.py:23: RuntimeWarning: overflow encountered in ushort_scalars\n",
      "  b[i][n] = (image[i][n-1] + image[i][n+1])/2\n"
     ]
    },
    {
     "data": {
      "text/plain": [
       "[array([[298, 312, 271, ..., 298, 305, 327],\n",
       "        [329, 273, 245, ..., 325, 300, 276],\n",
       "        [298, 261, 254, ..., 305, 285, 383],\n",
       "        ...,\n",
       "        [343, 318, 316, ..., 283, 243, 204],\n",
       "        [359, 314, 314, ..., 296, 246, 361],\n",
       "        [537, 337, 377, ..., 295, 324, 204]], dtype=uint16),\n",
       " array([[298, 312, 271, ..., 298, 305, 327],\n",
       "        [329, 273, 245, ..., 325, 300, 276],\n",
       "        [298, 261, 254, ..., 305, 285, 383],\n",
       "        ...,\n",
       "        [343, 318, 316, ..., 283, 243, 204],\n",
       "        [359, 314, 314, ..., 296, 246, 361],\n",
       "        [537, 337, 377, ..., 295, 324, 204]], dtype=uint16),\n",
       " array([[298, 312, 271, ..., 298, 305, 327],\n",
       "        [329, 273, 245, ..., 325, 300, 276],\n",
       "        [298, 261, 254, ..., 305, 285, 383],\n",
       "        ...,\n",
       "        [343, 318, 316, ..., 283, 243, 204],\n",
       "        [359, 314, 314, ..., 296, 246, 361],\n",
       "        [537, 337, 377, ..., 295, 324, 204]], dtype=uint16)]"
      ]
     },
     "execution_count": 4,
     "metadata": {},
     "output_type": "execute_result"
    }
   ],
   "source": [
    "x = simple_debayer(trifid_data[0])"
   ]
  }
 ],
 "metadata": {
  "kernelspec": {
   "display_name": "Python 3.10.5 64-bit",
   "language": "python",
   "name": "python3"
  },
  "language_info": {
   "codemirror_mode": {
    "name": "ipython",
    "version": 3
   },
   "file_extension": ".py",
   "mimetype": "text/x-python",
   "name": "python",
   "nbconvert_exporter": "python",
   "pygments_lexer": "ipython3",
   "version": "3.10.5"
  },
  "orig_nbformat": 4,
  "vscode": {
   "interpreter": {
    "hash": "aee8b7b246df8f9039afb4144a1f6fd8d2ca17a180786b69acc140d282b71a49"
   }
  }
 },
 "nbformat": 4,
 "nbformat_minor": 2
}
